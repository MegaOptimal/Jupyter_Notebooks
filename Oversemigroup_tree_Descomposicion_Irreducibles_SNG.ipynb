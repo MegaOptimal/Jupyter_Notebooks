{
 "cells": [
  {
   "cell_type": "code",
   "execution_count": 1,
   "id": "6d26188c-24ee-4be3-ac19-dfd2385c80cf",
   "metadata": {},
   "outputs": [
    {
     "data": {
      "text/plain": [
       "true"
      ]
     },
     "execution_count": 1,
     "metadata": {},
     "output_type": "execute_result"
    }
   ],
   "source": [
    "gap('LoadPackage(\"numericalsgps\")')"
   ]
  },
  {
   "cell_type": "code",
   "execution_count": 2,
   "id": "88f99dac-e272-450e-a30a-717f67bc7161",
   "metadata": {},
   "outputs": [],
   "source": [
    "def SNG_SpecialGaps(SNG):\n",
    "    try:\n",
    "        SGs = gap(f\"SpecialGaps({SNG})\")\n",
    "    except:\n",
    "        SGs = []\n",
    "    NSs = []\n",
    "    for k in SGs:\n",
    "        NSs.append(gap(f\"AddSpecialGapOfAffineSemigroup({k},{SNG})\"))\n",
    "    return NSs"
   ]
  },
  {
   "cell_type": "code",
   "execution_count": 3,
   "id": "884ad8f5-aea6-49f2-af0c-b625cbfbeb19",
   "metadata": {},
   "outputs": [],
   "source": [
    "Nd = gap('''AffineSemigroup( [ [ 0, 0, 1 ], [ 0, 1, 0 ], [ 1, 0, 0 ], \n",
    "[ 1, 0, 1 ], [ 1, 1, 0 ], [ 2, 0, 0 ], [ 3, 0, 0 ] ] )''')\n",
    "def oversemigroup_function(SNG):\n",
    "    HashMap = {}\n",
    "    def generate_oversemigroup_tree(N):\n",
    "        nonlocal HashMap\n",
    "        global Nd\n",
    "        if isinstance(N,list):\n",
    "            for Nm in N: \n",
    "                OverN = SNG_SpecialGaps(Nm)\n",
    "                if f\"{Nd}\" in [str(A) for A in OverN]:\n",
    "                    HashMap[gap(f\"Gaps({Nm})\")] = [Nd]\n",
    "                else:\n",
    "                    if str(Nm) == f\"{Nd}\":\n",
    "                        HashMap[Nd] = []\n",
    "                    else:\n",
    "                        HashMap[gap(f\"Gaps({Nm})\")] = [gap(f\"Gaps({M})\") for M in OverN]\n",
    "                generate_oversemigroup_tree(OverN)\n",
    "        else:\n",
    "            OverN = SNG_SpecialGaps(N)\n",
    "            HashMap[gap(f\"Gaps({N})\")] = [gap(f\"Gaps({M})\") for M in OverN]\n",
    "            generate_oversemigroup_tree(OverN)\n",
    "\n",
    "    generate_oversemigroup_tree(SNG)\n",
    "    return HashMap"
   ]
  },
  {
   "cell_type": "code",
   "execution_count": 10,
   "id": "8b926e2c-7d3e-4d3d-aec5-06161fb5452a",
   "metadata": {
    "scrolled": true
   },
   "outputs": [],
   "source": [
    "SNG_1 = gap(\"AffineSemigroupByGaps([[1,0,0],[0,1,0],[0,0,1]])\")\n",
    "D = DiGraph(oversemigroup_function(SNG_1))\n",
    "P = Poset(D)\n",
    "SNG_1_plot = P.plot(vertex_shape=\"\",vertex_size=1000,figsize=12,edge_style=\":\", edge_thickness = 0.1)\n",
    "SNG_1_plot.save(\"Diagrama_Hasse_SNG_N3.png\")"
   ]
  },
  {
   "cell_type": "code",
   "execution_count": 6,
   "id": "4860b63e-4393-4b1b-982b-e327df6d2b74",
   "metadata": {},
   "outputs": [],
   "source": [
    "import itertools\n",
    "import copy\n",
    "\n",
    "def SNG_I_decomposition(SNG):\n",
    "    SGs = gap(f\"SpecialGaps({SNG})\")\n",
    "    SNG_2 = SNG\n",
    "    I = []\n",
    "    C = [SNG]\n",
    "    while C != []:\n",
    "        B = []\n",
    "        for SNG in C:\n",
    "            B.extend(SNG_SpecialGaps(SNG))\n",
    "        B.sort()\n",
    "        B = list(k for k,_ in itertools.groupby(B))\n",
    "        B = [S for S in B if not specialgaps_in_SNG(S,SGs)]\n",
    "        B = [S for S in B if not exist_subset(S,I)]\n",
    "        C = [S for S in B if not EsIrreducible(S)]\n",
    "        I.extend([S for S in B if S not in C])\n",
    "    C_S = {S : Ev_C_S(S,SGs) for S in I}\n",
    "    Descomp = Opt_S(SNG_2,I,C_S)\n",
    "    return Descomp\n",
    "\n",
    "def specialgaps_in_SNG(SNG,SpecialGaps):\n",
    "    for N in SpecialGaps:\n",
    "        if not gap(f\"{N} in {SNG}\"):\n",
    "            return False\n",
    "    return True\n",
    "\n",
    "def exist_subset(SNG,Conjunto_SNGs):\n",
    "    Gaps_SNG = gap(f\"Gaps({SNG})\")\n",
    "    try:\n",
    "        Conjunto_SNGs.remove(SNG)\n",
    "    except:\n",
    "        pass\n",
    "    for N in Conjunto_SNGs:\n",
    "        Gaps_N = gap(f\"Gaps({N})\")\n",
    "        if A_is_subset(Gaps_SNG,Gaps_N):\n",
    "            return True\n",
    "    return False\n",
    "\n",
    "def A_is_subset(setA,setB):\n",
    "    for N in setA:\n",
    "        if N not in setB:\n",
    "            return False\n",
    "    return True\n",
    "\n",
    "def EsIrreducible(SNG):\n",
    "    return len(gap(f\"SpecialGaps({SNG})\"))==1\n",
    "\n",
    "def Ev_C_S(SNG, SpecialGaps):\n",
    "    return [e for e in SpecialGaps if not gap(f\"{e} in {SNG}\")]\n",
    "\n",
    "def Opt_S(SNG,I,CS):\n",
    "    I2 = []\n",
    "    for K in I:\n",
    "        I3 = copy.deepcopy(I)\n",
    "        if not exist_subset(K,I3):\n",
    "            I2.append(K)\n",
    "    if len(I) != len(I2):\n",
    "        I = I2\n",
    "        for k in [S for S in I if S not in I2]:\n",
    "            del CS[k]\n",
    "    AB = [list(comb) for i in range(2, len(I)+1) for comb in itertools.combinations(CS.values(), i)]\n",
    "    AB2 = [list(comb) for i in range(2, len(I)+1) for comb in itertools.combinations(I, i)]\n",
    "    Gaps_SNG = gap(f\"Gaps({SNG})\")\n",
    "    SGs = gap(f\"SpecialGaps({SNG})\")\n",
    "    i=0\n",
    "    Combos = []\n",
    "    for recurso in AB:\n",
    "        prim = recurso[0]\n",
    "        for N in recurso[1:]:\n",
    "            prim.extend(N)\n",
    "        prim.sort()\n",
    "        prim = list(k for k,_ in itertools.groupby(prim))\n",
    "        if gap(f\"{prim} = {SGs}\"):\n",
    "            gaps_sets = [list(gap(f\"Gaps({S})\")) for S in AB2[i]]\n",
    "            gaps_sets_0 = list(gaps_sets[0])\n",
    "            for N in gaps_sets[1:]:\n",
    "                gaps_sets_0.extend(list(N))\n",
    "            gaps_sets_0.sort()\n",
    "            gaps_sets_0 = list(k for k,_ in itertools.groupby(gaps_sets_0))\n",
    "            if gap(f\"{gaps_sets_0} = {Gaps_SNG}\"):\n",
    "                Combos.append(gaps_sets)\n",
    "                break\n",
    "        i=i+1\n",
    "    return Combos"
   ]
  },
  {
   "cell_type": "code",
   "execution_count": 7,
   "id": "8b723c0a-8a48-4f6d-9173-ef64dc39bede",
   "metadata": {},
   "outputs": [
    {
     "data": {
      "text/plain": [
       "[[[[ 1, 0 ], [ 2, 0 ], [ 2, 1 ]], [[ 0, 1 ], [ 1, 1 ], [ 2, 1 ]]]]"
      ]
     },
     "execution_count": 7,
     "metadata": {},
     "output_type": "execute_result"
    }
   ],
   "source": [
    "Test_1 = gap(\"AffineSemigroupByGaps([[0, 1], [1, 0], [1, 1], [2, 0], [2, 1]])\")\n",
    "SNG_I_decomposition(Test_1)"
   ]
  },
  {
   "cell_type": "code",
   "execution_count": 8,
   "id": "f8a213fc-7dd8-4d98-be97-ce4dd66cd08f",
   "metadata": {},
   "outputs": [],
   "source": [
    "Test_2 = gap(\"AsAffineSemigroup(NumericalSemigroup(5,21,24,28,32))\")\n",
    "Combos = SNG_I_decomposition(Test_2)"
   ]
  },
  {
   "cell_type": "code",
   "execution_count": 9,
   "id": "50939667-854f-45e6-b9ac-83478ae05ee0",
   "metadata": {},
   "outputs": [
    {
     "name": "stdout",
     "output_type": "stream",
     "text": [
      "[ 5, 8 ]\n",
      "[ 5, 7 ]\n"
     ]
    }
   ],
   "source": [
    "def flatten_chain(matrix):\n",
    "    return list(itertools.chain.from_iterable(matrix))\n",
    "\n",
    "for k in Combos[0]:\n",
    "    print(gap(f\"MinimalGenerators(NumericalSemigroupByGaps({list(flatten_chain(k))}))\"))"
   ]
  }
 ],
 "metadata": {
  "kernelspec": {
   "display_name": "SageMath 10.3",
   "language": "sage",
   "name": "sagemath-dev"
  },
  "language_info": {
   "codemirror_mode": {
    "name": "ipython",
    "version": 3
   },
   "file_extension": ".py",
   "mimetype": "text/x-python",
   "name": "python",
   "nbconvert_exporter": "python",
   "pygments_lexer": "ipython3",
   "version": "3.12.4"
  }
 },
 "nbformat": 4,
 "nbformat_minor": 5
}

{
 "cells": [
  {
   "cell_type": "code",
   "execution_count": 1,
   "id": "c5a393e2-a822-43a1-973d-61ac1011f473",
   "metadata": {},
   "outputs": [
    {
     "data": {
      "text/plain": [
       "true"
      ]
     },
     "execution_count": 1,
     "metadata": {},
     "output_type": "execute_result"
    }
   ],
   "source": [
    "gap('LoadPackage(\"numericalsgps\")')"
   ]
  },
  {
   "cell_type": "code",
   "execution_count": 2,
   "id": "f1fac466-60f3-4259-b8f3-092d8f015a0b",
   "metadata": {},
   "outputs": [
    {
     "data": {
      "text/plain": [
       "true"
      ]
     },
     "execution_count": 2,
     "metadata": {},
     "output_type": "execute_result"
    }
   ],
   "source": [
    "gap(\"IsSaturated(NumericalSemigroup(4,6,9,11))\")\n",
    "#Verifica si un semigrupo numérico dado es Saturado o no"
   ]
  },
  {
   "cell_type": "code",
   "execution_count": 3,
   "id": "8ce8b797-863e-40c0-b098-dee3ad264c82",
   "metadata": {},
   "outputs": [
    {
     "data": {
      "text/plain": [
       "false"
      ]
     },
     "execution_count": 3,
     "metadata": {},
     "output_type": "execute_result"
    }
   ],
   "source": [
    "gap(\"IsSaturated(NumericalSemigroup(8, 9, 12, 13, 15, 19 ))\")"
   ]
  },
  {
   "cell_type": "code",
   "execution_count": 4,
   "id": "92558cf9-e845-43d9-b284-70b35137bf22",
   "metadata": {},
   "outputs": [
    {
     "data": {
      "text/plain": [
       "[ 0, 6, 10, 12, 14, 15, 16, 17, 18, 19, 20, 21 ]"
      ]
     },
     "execution_count": 4,
     "metadata": {},
     "output_type": "execute_result"
    }
   ],
   "source": [
    "gap(\"SaturatedClosure(NumericalSemigroup(6,10,15)){[1..12]}\")\n",
    "#Obtiene los primeros 12 elementos de Sat(6,10,15)"
   ]
  },
  {
   "cell_type": "code",
   "execution_count": 5,
   "id": "6e7f201e-70d3-4b3d-952a-35477d19bd51",
   "metadata": {},
   "outputs": [
    {
     "data": {
      "text/plain": [
       "[ [ 3, 11, 13 ], [ 4, 11, 13, 14 ], [ 6, 9, 11, 13, 14, 16 ], \n",
       "  [ 6, 11, 13, 14, 15, 16 ], [ 7, 11, 12, 13, 15, 16, 17 ], \n",
       "  [ 8, 11, 12, 13, 14, 15, 17, 18 ], [ 9, 11, 12, 13, 14, 15, 16, 17, 19 ], \n",
       "  [ 11 .. 21 ] ]"
      ]
     },
     "execution_count": 5,
     "metadata": {},
     "output_type": "execute_result"
    }
   ],
   "source": [
    "gap(\"Set(SaturatedNumericalSemigroupsWithFrobeniusNumber(10),MinimalGenerators)\")\n",
    "#Genera todos los semigrupos numéricos saturados con Número de Frobenius 10"
   ]
  }
 ],
 "metadata": {
  "kernelspec": {
   "display_name": "SageMath 10.3",
   "language": "sage",
   "name": "sagemath-dev"
  },
  "language_info": {
   "codemirror_mode": {
    "name": "ipython",
    "version": 3
   },
   "file_extension": ".py",
   "mimetype": "text/x-python",
   "name": "python",
   "nbconvert_exporter": "python",
   "pygments_lexer": "ipython3",
   "version": "3.12.4"
  }
 },
 "nbformat": 4,
 "nbformat_minor": 5
}

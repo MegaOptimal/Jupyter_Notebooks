{
 "cells": [
  {
   "cell_type": "code",
   "execution_count": 1,
   "id": "42a03592-6dec-4610-aac2-2f4bb99965ec",
   "metadata": {},
   "outputs": [
    {
     "data": {
      "text/plain": [
       "true"
      ]
     },
     "execution_count": 1,
     "metadata": {},
     "output_type": "execute_result"
    }
   ],
   "source": [
    "gap('LoadPackage(\"numericalsgps\")')"
   ]
  },
  {
   "cell_type": "code",
   "execution_count": 2,
   "id": "806207fa-d120-4080-b3c3-056636bcaaad",
   "metadata": {},
   "outputs": [
    {
     "data": {
      "text/plain": [
       "true"
      ]
     },
     "execution_count": 2,
     "metadata": {},
     "output_type": "execute_result"
    }
   ],
   "source": [
    "gap(\"IsArf(NumericalSemigroup(3,5,7))\")\n",
    "#Verifica si un semigrupo numérico dado es Arf o no"
   ]
  },
  {
   "cell_type": "code",
   "execution_count": 3,
   "id": "cd36f6b4-8164-4ce7-89fe-507489eccf75",
   "metadata": {},
   "outputs": [
    {
     "data": {
      "text/plain": [
       "false"
      ]
     },
     "execution_count": 3,
     "metadata": {},
     "output_type": "execute_result"
    }
   ],
   "source": [
    "gap(\"IsArf(NumericalSemigroup(3,5,12))\")"
   ]
  },
  {
   "cell_type": "code",
   "execution_count": 4,
   "id": "18db9440-04fc-4487-abc5-9f5f92968281",
   "metadata": {},
   "outputs": [
    {
     "data": {
      "text/plain": [
       "[ 0, 5, 10, 12, 14, 15, 16, 17, 18, 19, 20, 21 ]"
      ]
     },
     "execution_count": 4,
     "metadata": {},
     "output_type": "execute_result"
    }
   ],
   "source": [
    "gap(\"(ArfClosure(NumericalSemigroup(5,12,17))){[1..12]}\")\n",
    "#Obtiene los primeros 12 elementos de Arf(5,12,17)"
   ]
  },
  {
   "cell_type": "code",
   "execution_count": 5,
   "id": "01ac963b-7675-41cb-a878-0cfb3ef792ee",
   "metadata": {},
   "outputs": [
    {
     "data": {
      "text/plain": [
       "[ [ 3, 11, 13 ], [ 4, 11, 13, 14 ], [ 6, 9, 11, 13, 14, 16 ], \n",
       "  [ 6, 11, 13, 14, 15, 16 ], [ 7, 9, 11, 12, 13, 15, 17 ], \n",
       "  [ 7, 11, 12, 13, 15, 16, 17 ], [ 8, 11, 12, 13, 14, 15, 17, 18 ], \n",
       "  [ 9, 11, 12, 13, 14, 15, 16, 17, 19 ], [ 11 .. 21 ] ]"
      ]
     },
     "execution_count": 5,
     "metadata": {},
     "output_type": "execute_result"
    }
   ],
   "source": [
    "gap(\"Set(ArfNumericalSemigroupsWithFrobeniusNumber(10),MinimalGenerators)\")\n",
    "#Genera todos los semigrupos numéricos Arf con Número de Frobenius 10"
   ]
  }
 ],
 "metadata": {
  "kernelspec": {
   "display_name": "SageMath 10.3",
   "language": "sage",
   "name": "sagemath-dev"
  },
  "language_info": {
   "codemirror_mode": {
    "name": "ipython",
    "version": 3
   },
   "file_extension": ".py",
   "mimetype": "text/x-python",
   "name": "python",
   "nbconvert_exporter": "python",
   "pygments_lexer": "ipython3",
   "version": "3.12.4"
  }
 },
 "nbformat": 4,
 "nbformat_minor": 5
}

{
 "cells": [
  {
   "cell_type": "code",
   "execution_count": 1,
   "id": "b5aee569-4101-4af5-94eb-b756c8ef37a0",
   "metadata": {},
   "outputs": [
    {
     "data": {
      "text/plain": [
       "true"
      ]
     },
     "execution_count": 1,
     "metadata": {},
     "output_type": "execute_result"
    }
   ],
   "source": [
    "gap('LoadPackage(\"numericalsgps\")')"
   ]
  },
  {
   "cell_type": "code",
   "execution_count": 7,
   "id": "f02ac3d4-d115-4650-ab6f-1c1b362de70c",
   "metadata": {},
   "outputs": [
    {
     "data": {
      "text/plain": [
       "[ [ 5 .. 8 ], [ 5, 6, 7, 9 ] ]"
      ]
     },
     "execution_count": 7,
     "metadata": {},
     "output_type": "execute_result"
    }
   ],
   "source": [
    "S ='NumericalSemigroup(5,6,7)'\n",
    "MinI_S = gap(f'DecomposeIntoIrreducibles({S})')\n",
    "gap(f'List({MinI_S},MinimalGenerators)')"
   ]
  },
  {
   "cell_type": "code",
   "execution_count": 9,
   "id": "a7b8a885-cf82-402c-9819-83e0419c3ddc",
   "metadata": {},
   "outputs": [
    {
     "data": {
      "text/plain": [
       "[ [ 3, 5, 7 ], [ 4, 5, 7 ] ]"
      ]
     },
     "execution_count": 9,
     "metadata": {},
     "output_type": "execute_result"
    }
   ],
   "source": [
    "S2 = 'NumericalSemigroup(5,7,8,9,11)'\n",
    "MinI_S2 = gap(f'DecomposeIntoIrreducibles({S2})')\n",
    "gap(f'List({MinI_S2},MinimalGenerators)')"
   ]
  },
  {
   "cell_type": "code",
   "execution_count": 16,
   "id": "0c911f18-411f-4e18-b207-24f2c4bbd271",
   "metadata": {},
   "outputs": [
    {
     "data": {
      "text/plain": [
       "[ [ 5, 9, 12, 13 ], [ 5, 11, 12, 13 ], [ 5, 12, 14, 16 ], [ 5, 14, 16, 18 ] ]"
      ]
     },
     "execution_count": 16,
     "metadata": {},
     "output_type": "execute_result"
    }
   ],
   "source": [
    "S3 = 'NumericalSemigroup(5,21,24,28,32)'\n",
    "MinI_S3 = gap(f'DecomposeIntoIrreducibles({S3})')\n",
    "gap(f'List({MinI_S3},MinimalGenerators)')"
   ]
  },
  {
   "cell_type": "code",
   "execution_count": 17,
   "id": "d15560e0-4669-4e12-9936-7c73bbd51bc6",
   "metadata": {},
   "outputs": [
    {
     "data": {
      "text/plain": [
       "true"
      ]
     },
     "execution_count": 17,
     "metadata": {},
     "output_type": "execute_result"
    }
   ],
   "source": [
    "S_1 = 'NumericalSemigroup(5,7)'\n",
    "S_2 = 'NumericalSemigroup(5,8)'\n",
    "S_comparar = gap(f'IntersectionOfNumericalSemigroups({S_1},{S_2})')\n",
    "gap(f'{S3}={S_comparar}')"
   ]
  }
 ],
 "metadata": {
  "kernelspec": {
   "display_name": "SageMath 10.3",
   "language": "sage",
   "name": "sagemath-dev"
  },
  "language_info": {
   "codemirror_mode": {
    "name": "ipython",
    "version": 3
   },
   "file_extension": ".py",
   "mimetype": "text/x-python",
   "name": "python",
   "nbconvert_exporter": "python",
   "pygments_lexer": "ipython3",
   "version": "3.12.4"
  }
 },
 "nbformat": 4,
 "nbformat_minor": 5
}

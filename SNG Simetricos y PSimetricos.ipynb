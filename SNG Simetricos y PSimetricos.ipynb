{
 "cells": [
  {
   "cell_type": "code",
   "execution_count": 6,
   "id": "1f95d6dd",
   "metadata": {},
   "outputs": [
    {
     "data": {
      "text/plain": [
       "true"
      ]
     },
     "execution_count": 6,
     "metadata": {},
     "output_type": "execute_result"
    }
   ],
   "source": [
    "gap('LoadPackage(\"numericalsgps\")')"
   ]
  },
  {
   "cell_type": "code",
   "execution_count": 7,
   "id": "6a818842",
   "metadata": {},
   "outputs": [],
   "source": [
    "def EsIrreducible(sng):\n",
    "    try:\n",
    "        special_gaps = [tuple(u) for u in gap(f'SpecialGaps({sng})')]\n",
    "        pseudo_frob = [tuple(u) for u in gap(f'PseudoFrobenius({sng})')]\n",
    "        #Revisar si es irreducible\n",
    "        if len(special_gaps) != 1:\n",
    "            raise ValueError(\"El SNG no es Irreducible\")\n",
    "        #Revisa si es Simétrico al mirar PF(S)\n",
    "        if len(pseudo_frob) == 1:\n",
    "            return \"El SNG es Simétrico\"\n",
    "        #En caso de que no, mira que el f/2 esté en PF(S) [Ya sabemos que f in SG(S))]\n",
    "        else:\n",
    "            half_sg = tuple([n/2 for n in special_gaps[0]])\n",
    "            if half_sg in pseudo_frob:\n",
    "                return \"El SNG es Pseudo-simétrico\"\n",
    "    except ValueError as e:\n",
    "        print(e)\n",
    "    except Exception as e:\n",
    "        print(e)"
   ]
  },
  {
   "cell_type": "code",
   "execution_count": 8,
   "id": "0878d43e",
   "metadata": {},
   "outputs": [
    {
     "data": {
      "text/plain": [
       "'El SNG es Simétrico'"
      ]
     },
     "execution_count": 8,
     "metadata": {},
     "output_type": "execute_result"
    }
   ],
   "source": [
    "lagunas_1 = str([[0, 1], [1, 1], [2, 1], [3, 1], [4, 1], [5, 1], [6, 1]])\n",
    "EsIrreducible(gap(f'AffineSemigroupByGaps({lagunas_1})'))"
   ]
  },
  {
   "cell_type": "code",
   "execution_count": 9,
   "id": "ff92e061",
   "metadata": {},
   "outputs": [
    {
     "data": {
      "text/plain": [
       "'El SNG es Pseudo-simétrico'"
      ]
     },
     "execution_count": 9,
     "metadata": {},
     "output_type": "execute_result"
    }
   ],
   "source": [
    "lagunas_2 = str([[1, 0], [2, 0], [3, 0], [4, 0], [5, 0], [6, 0], [12, 0]])\n",
    "EsIrreducible(gap(f'AffineSemigroupByGaps({lagunas_2})'))"
   ]
  },
  {
   "cell_type": "code",
   "execution_count": 10,
   "id": "b0817641",
   "metadata": {
    "scrolled": true
   },
   "outputs": [
    {
     "name": "stdout",
     "output_type": "stream",
     "text": [
      "El SNG no es Irreducible\n"
     ]
    }
   ],
   "source": [
    "lagunas_3 = str([[0, 1], [0, 3], [1, 0], [1, 1], [1, 3], [2, 1], [2, 0], [3, 0]])\n",
    "EsIrreducible(gap(f'AffineSemigroupByGaps({lagunas_3})'))"
   ]
  }
 ],
 "metadata": {
  "kernelspec": {
   "display_name": "SageMath 10.3",
   "language": "sage",
   "name": "sagemath"
  },
  "language_info": {
   "codemirror_mode": {
    "name": "ipython",
    "version": 3
   },
   "file_extension": ".py",
   "mimetype": "text/x-python",
   "name": "python",
   "nbconvert_exporter": "python",
   "pygments_lexer": "ipython3",
   "version": "3.12.4"
  }
 },
 "nbformat": 4,
 "nbformat_minor": 5
}

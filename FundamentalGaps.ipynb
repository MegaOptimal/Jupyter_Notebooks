{
 "cells": [
  {
   "cell_type": "code",
   "execution_count": 3,
   "id": "d8610600-d91e-4fcf-be5d-e5a241261138",
   "metadata": {},
   "outputs": [
    {
     "data": {
      "text/plain": [
       "true"
      ]
     },
     "execution_count": 3,
     "metadata": {},
     "output_type": "execute_result"
    }
   ],
   "source": [
    "gap('LoadPackage(\"numericalsgps\")')"
   ]
  },
  {
   "cell_type": "code",
   "execution_count": 4,
   "id": "7963c5dc-22dc-4b9c-a635-8462cd65beef",
   "metadata": {},
   "outputs": [
    {
     "data": {
      "text/plain": [
       "[ 6, 8, 9, 13 ]"
      ]
     },
     "execution_count": 4,
     "metadata": {},
     "output_type": "execute_result"
    }
   ],
   "source": [
    "S_1 = 'NumericalSemigroup(5,7,11)'\n",
    "gap(f'FundamentalGaps({S_1})')"
   ]
  },
  {
   "cell_type": "code",
   "execution_count": 5,
   "id": "94dd1c6d-a676-4e90-a642-66dc3d07b166",
   "metadata": {},
   "outputs": [
    {
     "data": {
      "text/plain": [
       "[ 4, 5, 6, 14 ]"
      ]
     },
     "execution_count": 5,
     "metadata": {},
     "output_type": "execute_result"
    }
   ],
   "source": [
    "S_2 = 'NumericalSemigroup(8,9,10,11,12,13,15)'\n",
    "gap(f'FundamentalGaps({S_2})')"
   ]
  },
  {
   "cell_type": "code",
   "execution_count": 6,
   "id": "d9069818-c5df-4de1-9070-1da6a84ca043",
   "metadata": {},
   "outputs": [
    {
     "data": {
      "text/plain": [
       "[ 3, 10, 13, 14, 16, 19, 25 ]"
      ]
     },
     "execution_count": 6,
     "metadata": {},
     "output_type": "execute_result"
    }
   ],
   "source": [
    "S_3 = 'NumericalSemigroup(6,9,11)'\n",
    "gap(f'FundamentalGaps({S_3})')"
   ]
  },
  {
   "cell_type": "code",
   "execution_count": 7,
   "id": "7171f78b-7453-4f8d-9ee4-a441eeec4e19",
   "metadata": {},
   "outputs": [
    {
     "data": {
      "text/plain": [
       "[ 25, 26, 32, 33, 34, 35, 38, 39, 40, 41, 47, 48, 49, 54, 55, 63, 69 ]"
      ]
     },
     "execution_count": 7,
     "metadata": {},
     "output_type": "execute_result"
    }
   ],
   "source": [
    "S_4 = 'NumericalSemigroup(14,15,22,31)'\n",
    "gap(f'FundamentalGaps({S_4})')"
   ]
  }
 ],
 "metadata": {
  "kernelspec": {
   "display_name": "SageMath 10.3",
   "language": "sage",
   "name": "sagemath-dev"
  },
  "language_info": {
   "codemirror_mode": {
    "name": "ipython",
    "version": 3
   },
   "file_extension": ".py",
   "mimetype": "text/x-python",
   "name": "python",
   "nbconvert_exporter": "python",
   "pygments_lexer": "ipython3",
   "version": "3.12.4"
  }
 },
 "nbformat": 4,
 "nbformat_minor": 5
}

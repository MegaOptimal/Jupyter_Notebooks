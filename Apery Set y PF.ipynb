{
 "cells": [
  {
   "cell_type": "code",
   "execution_count": 1,
   "id": "9af3e162",
   "metadata": {},
   "outputs": [
    {
     "data": {
      "text/plain": [
       "true"
      ]
     },
     "execution_count": 1,
     "metadata": {},
     "output_type": "execute_result"
    }
   ],
   "source": [
    "gap('LoadPackage(\"numericalsgps\")')"
   ]
  },
  {
   "cell_type": "code",
   "execution_count": 2,
   "id": "f7d88bcf",
   "metadata": {
    "scrolled": true
   },
   "outputs": [
    {
     "name": "stdout",
     "output_type": "stream",
     "text": [
      "[ 0, 12, 13, 25, 26, 38, 39, 51, 52, 53, 32 ] [ ,,,,,,,,,,, [ 12, 25, 38, 51 ], [ 13, 25, 26, 38, 39, 51, 52 ],,,,,,,,,,,, \n",
      "  [ 25, 38, 51 ], [ 26, 38, 39, 51, 52 ],,,,,, [ 32 ],,,,,, [ 38, 51 ], \n",
      "  [ 39, 51, 52 ],,,,,,,,,,,, [ 51 ], [ 52 ], [ 53 ] ]\n"
     ]
    }
   ],
   "source": [
    "S = 'NumericalSemigroup( 11, 12, 13, 32, 53 )'\n",
    "Apery_S = f'AperyListOfNumericalSemigroupWRTElement({S},11)'\n",
    "Lista_Apery = gap(f'{Apery_S}')\n",
    "Lista_Vertices = gap(f'AperyListOfNumericalSemigroupAsGraph({Apery_S})')\n",
    "print(Lista_Apery, Lista_Vertices)"
   ]
  },
  {
   "cell_type": "code",
   "execution_count": 3,
   "id": "09069a0d",
   "metadata": {},
   "outputs": [],
   "source": [
    "import re\n",
    "def leaveOne(s, char):  \n",
    "    return re.sub(r'((%s\\s?)){2,}' % char, r'\\1' , s)\n",
    "\n",
    "def convertir_lista_vecinos(lista_movimientos):\n",
    "    return {sub[0]: sub[1:] for sub in lista_movimientos}\n",
    "\n",
    "def limpiar_string_mov(original_string):\n",
    "    foo = [pos for pos, char in enumerate(original_string) if char in [\"[\",\"]\"]]\n",
    "    new_string = \"\"\n",
    "    for n in range(len(foo)-1):\n",
    "        if original_string[foo[n]] == \"[\" and original_string[foo[n+1]]==\"[\":\n",
    "            new_string += original_string[foo[n]:foo[n+1]].replace(\",\",\"\")\n",
    "            new_string += original_string[foo[n+1]:foo[n+2]]\n",
    "        elif original_string[foo[n]] == \"]\" and original_string[foo[n+1]]==\"[\":\n",
    "            new_string += leaveOne(original_string[foo[n]:foo[n+1]],\",\")\n",
    "            new_string += original_string[foo[n+1]:foo[n+2]]\n",
    "        elif original_string[foo[n]] == \"]\" and original_string[foo[n+1]]==\"]\":\n",
    "            new_string += original_string[foo[n]:foo[n+1]].replace(\",\",\"\")\n",
    "            new_string += original_string[foo[n+1]:foo[n+1]+1]\n",
    "    return convertir_lista_vecinos(sage_eval(new_string))"
   ]
  },
  {
   "cell_type": "code",
   "execution_count": 4,
   "id": "e1951e8d",
   "metadata": {},
   "outputs": [
    {
     "data": {
      "text/plain": [
       "{12: [25, 38, 51],\n",
       " 13: [25, 26, 38, 39, 51, 52],\n",
       " 25: [38, 51],\n",
       " 26: [38, 39, 51, 52],\n",
       " 32: [],\n",
       " 38: [51],\n",
       " 39: [51, 52],\n",
       " 51: [],\n",
       " 52: [],\n",
       " 53: []}"
      ]
     },
     "execution_count": 4,
     "metadata": {},
     "output_type": "execute_result"
    }
   ],
   "source": [
    "limpiar_string_mov(str(Lista_Vertices))"
   ]
  },
  {
   "cell_type": "code",
   "execution_count": 8,
   "id": "ec81d4d4",
   "metadata": {
    "scrolled": true
   },
   "outputs": [
    {
     "data": {
      "image/png": "[encoded data removed]",
      "text/plain": [
       "Graphics object consisting of 20 graphics primitives"
      ]
     },
     "metadata": {},
     "output_type": "display_data"
    }
   ],
   "source": [
    "D = DiGraph(limpiar_string_mov(str(Lista_Vertices)))\n",
    "P = Poset(D)\n",
    "P.show()"
   ]
  },
  {
   "cell_type": "code",
   "execution_count": 6,
   "id": "098ab574",
   "metadata": {},
   "outputs": [
    {
     "data": {
      "text/plain": [
       "[53, 32, 52, 51]"
      ]
     },
     "execution_count": 6,
     "metadata": {},
     "output_type": "execute_result"
    }
   ],
   "source": [
    "P.maximal_elements()"
   ]
  },
  {
   "cell_type": "code",
   "execution_count": 7,
   "id": "31b084d5",
   "metadata": {},
   "outputs": [
    {
     "name": "stdout",
     "output_type": "stream",
     "text": [
      "[42, 21, 41, 40] [ 21, 40, 41, 42 ]\n"
     ]
    }
   ],
   "source": [
    "print([u-11 for u in P.maximal_elements()],gap(f'PseudoFrobenius({S})'))"
   ]
  }
 ],
 "metadata": {
  "kernelspec": {
   "display_name": "SageMath 10.3",
   "language": "sage",
   "name": "sagemath"
  },
  "language_info": {
   "codemirror_mode": {
    "name": "ipython",
    "version": 3
   },
   "file_extension": ".py",
   "mimetype": "text/x-python",
   "name": "python",
   "nbconvert_exporter": "python",
   "pygments_lexer": "ipython3",
   "version": "3.12.4"
  }
 },
 "nbformat": 4,
 "nbformat_minor": 5
}

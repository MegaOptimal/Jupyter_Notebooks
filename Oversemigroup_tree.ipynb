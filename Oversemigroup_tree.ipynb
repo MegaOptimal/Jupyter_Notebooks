{
 "cells": [
  {
   "cell_type": "code",
   "execution_count": 1,
   "id": "9cc48398-6d31-4720-9d01-c557e2b7ba86",
   "metadata": {},
   "outputs": [
    {
     "data": {
      "text/plain": [
       "true"
      ]
     },
     "execution_count": 1,
     "metadata": {},
     "output_type": "execute_result"
    }
   ],
   "source": [
    "gap('LoadPackage(\"numericalsgps\")')"
   ]
  },
  {
   "cell_type": "code",
   "execution_count": 2,
   "id": "09e6601a-b7c6-4bd6-a6d9-8d1b2188b930",
   "metadata": {},
   "outputs": [
    {
     "data": {
      "text/plain": [
       "[ ModularNumericalSemigroup( [ 1, 2 ] )\n",
       "    , NumericalSemigroup( [ 2, 3 ] )\n",
       "    , NumericalSemigroup( [ 2, 5 ] )\n",
       "    , NumericalSemigroup( [ 2, 7 ] )\n",
       "    , NumericalSemigroup( [ 3 .. 5 ] )\n",
       "    , NumericalSemigroup( [ 3, 4 ] )\n",
       "    , NumericalSemigroup( [ 3, 5, 7 ] )\n",
       "    , NumericalSemigroup( [ 3, 7, 8 ] )\n",
       "    , NumericalSemigroup( [ 3, 7, 11 ] )\n",
       "    , NumericalSemigroup( [ 3, 7 ] )\n",
       "    , NumericalSemigroup( [ 4 .. 7 ] )\n",
       "    , NumericalSemigroup( [ 4, 6, 7, 9 ] )\n",
       "    , NumericalSemigroup( [ 5 .. 9 ] )\n",
       "    , NumericalSemigroup( [ 5, 6, 7, 9 ] )\n",
       "    , NumericalSemigroup( [ 6 .. 11 ] )\n",
       "    , NumericalSemigroup( [ 6, 7, 8, 9, 10 ] )\n",
       "    , NumericalSemigroup( [ 6, 7, 8, 9, 11 ] )\n",
       "    , NumericalSemigroup( [ 6, 7, 8, 9 ] )\n",
       "    , NumericalSemigroup( [ 6, 7, 9, 10, 11 ] )\n",
       "    , NumericalSemigroup( [ 6, 7, 9, 10 ] )\n",
       "    , NumericalSemigroup( [ 6, 7, 9, 11 ] )\n",
       "    , NumericalSemigroup( [ 6, 7, 9, 17 ] )\n",
       "    , NumericalSemigroup( [ 6, 7, 9 ] )\n",
       "     ]"
      ]
     },
     "execution_count": 2,
     "metadata": {},
     "output_type": "execute_result"
    }
   ],
   "source": [
    "gap('OverSemigroups(NumericalSemigroup(6,7,9))')"
   ]
  },
  {
   "cell_type": "code",
   "execution_count": 3,
   "id": "08132737-5e33-4007-a920-a1c4c81a06e3",
   "metadata": {},
   "outputs": [
    {
     "data": {
      "text/plain": [
       "[ [ 1 ], [ 2, 3 ], [ 2, 5 ], [ 2, 7 ], [ 3 .. 5 ], [ 3, 4 ], [ 3, 5, 7 ], \n",
       "  [ 3, 7, 8 ], [ 3, 7, 11 ], [ 3, 7 ], [ 4 .. 7 ], [ 4, 6, 7, 9 ], \n",
       "  [ 5 .. 9 ], [ 5, 6, 7, 9 ], [ 6 .. 11 ], [ 6, 7, 8, 9, 10 ], \n",
       "  [ 6, 7, 8, 9, 11 ], [ 6, 7, 8, 9 ], [ 6, 7, 9, 10, 11 ], [ 6, 7, 9, 10 ], \n",
       "  [ 6, 7, 9, 11 ], [ 6, 7, 9, 17 ], [ 6, 7, 9 ] ]"
      ]
     },
     "execution_count": 3,
     "metadata": {},
     "output_type": "execute_result"
    }
   ],
   "source": [
    "gap('List(OverSemigroups(NumericalSemigroup(6,7,9)),MinimalGenerators)')"
   ]
  },
  {
   "cell_type": "code",
   "execution_count": 9,
   "id": "76e3cb64-755e-4dae-bce2-c832068645a0",
   "metadata": {},
   "outputs": [
    {
     "data": {
      "text/plain": [
       "{[ 6, 7, 9 ]: [[ 6, 7, 9, 17 ]],\n",
       " [ 6, 7, 9, 17 ]: [[ 6 .. 9 ], [ 6, 7, 9, 10 ], [ 6, 7, 9, 11 ]],\n",
       " [ 6 .. 9 ]: [[ 6 .. 10 ], [ 6, 7, 8, 9, 11 ]],\n",
       " [ 6 .. 10 ]: [[ 6 .. 11 ]],\n",
       " [ 6 .. 11 ]: [[ 3, 7, 8 ], [ 4, 6, 7, 9 ], [ 5 .. 9 ]],\n",
       " [ 3, 7, 8 ]: [[ 3, 4 ], [ 3, 5, 7 ]],\n",
       " [ 3, 4 ]: [[ 3 .. 5 ]],\n",
       " [ 3 .. 5 ]: [[ 2, 3 ]],\n",
       " [ 2, 3 ]: [[ 1 ]],\n",
       " [ 1 ]: [],\n",
       " [ 3, 5, 7 ]: [[ 3 .. 5 ]],\n",
       " [ 4, 6, 7, 9 ]: [[ 2, 7 ], [ 3, 4 ], [ 4 .. 7 ]],\n",
       " [ 2, 7 ]: [[ 2, 5 ]],\n",
       " [ 2, 5 ]: [[ 2, 3 ]],\n",
       " [ 4 .. 7 ]: [[ 2, 5 ], [ 3 .. 5 ]],\n",
       " [ 5 .. 9 ]: [[ 3, 5, 7 ], [ 4 .. 7 ]],\n",
       " [ 6, 7, 8, 9, 11 ]: [[ 6 .. 11 ]],\n",
       " [ 6, 7, 9, 10 ]: [[ 3, 7 ], [ 6 .. 10 ], [ 6, 7, 9, 10, 11 ]],\n",
       " [ 3, 7 ]: [[ 3, 7, 11 ]],\n",
       " [ 3, 7, 11 ]: [[ 3, 7, 8 ]],\n",
       " [ 6, 7, 9, 10, 11 ]: [[ 3, 7, 11 ], [ 5, 6, 7, 9 ], [ 6 .. 11 ]],\n",
       " [ 5, 6, 7, 9 ]: [[ 5 .. 9 ]],\n",
       " [ 6, 7, 9, 11 ]: [[ 6, 7, 8, 9, 11 ], [ 6, 7, 9, 10, 11 ]]}"
      ]
     },
     "execution_count": 9,
     "metadata": {},
     "output_type": "execute_result"
    }
   ],
   "source": [
    "def NumSem_SpecialGaps(NumericalSemigroup):\n",
    "    try:\n",
    "        SGs = gap(f\"SpecialGaps({NumericalSemigroup})\")\n",
    "    except:\n",
    "        SGs = []\n",
    "    NSs = []\n",
    "    for k in SGs:\n",
    "        NSs.append(gap(f\"AddSpecialGapOfNumericalSemigroup({k},{NumericalSemigroup})\"))\n",
    "    return NSs\n",
    "\n",
    "HashMap = {}\n",
    "def generate_oversemigroup_tree(N):\n",
    "    global HashMap\n",
    "    if isinstance(N,list):\n",
    "        Nset = gap(f\"MinimalGenerators(NumericalSemigroup({[1]}))\")\n",
    "        for Nm in N: \n",
    "            OverN = NumSem_SpecialGaps(Nm)\n",
    "            if 'ModularNumericalSemigroup( [ 1, 2 ] )' in [str(A) for A in OverN]:\n",
    "                HashMap[gap(f\"MinimalGenerators({Nm})\")] = [Nset]\n",
    "            else:\n",
    "                if str(Nm) == 'ModularNumericalSemigroup( [ 1, 2 ] )':\n",
    "                    HashMap[Nset] = []\n",
    "                else:\n",
    "                    HashMap[gap(f\"MinimalGenerators({Nm})\")] = [gap(f\"MinimalGenerators({M})\") for M in OverN]\n",
    "            generate_oversemigroup_tree(OverN)\n",
    "    else:\n",
    "        OverN = NumSem_SpecialGaps(N)\n",
    "        HashMap[gap(f\"MinimalGenerators({N})\")] = [gap(f\"MinimalGenerators({M})\") for M in OverN]\n",
    "        generate_oversemigroup_tree(OverN)\n",
    "    return HashMap\n",
    "\n",
    "generadores = [6,7,9]\n",
    "N = gap(f\"NumericalSemigroup({generadores})\")\n",
    "#Copa del ÁrbolNoneType' object has no attribute 'save'\n",
    "generate_oversemigroup_tree(N)"
   ]
  },
  {
   "cell_type": "code",
   "execution_count": 5,
   "id": "f151dcf7-9aec-45fb-9e44-bd1727dbfd73",
   "metadata": {},
   "outputs": [
    {
     "name": "stderr",
     "output_type": "stream",
     "text": [
      "/usr/lib/python3.12/site-packages/sage/plot/scatter_plot.py:134: UserWarning: You passed a edgecolor/edgecolors ('black') for an unfilled marker ('').  Matplotlib is ignoring the edgecolor in favor of the facecolor.  This behavior may change in the future.\n",
      "  p = subplot.scatter(self.xdata, self.ydata, alpha=options['alpha'],\n"
     ]
    }
   ],
   "source": [
    "D = DiGraph(generate_oversemigroup_tree(gap(f\"NumericalSemigroup({[6,7,9]})\")))\n",
    "P = Poset(D)\n",
    "A = P.plot(vertex_shape=\"\",vertex_size=1000,figsize=12,edge_style=\":\", edge_thickness = 0.1)\n",
    "A.save(\"hasse_graph.png\")"
   ]
  }
 ],
 "metadata": {
  "kernelspec": {
   "display_name": "SageMath 10.3",
   "language": "sage",
   "name": "sagemath-dev"
  },
  "language_info": {
   "codemirror_mode": {
    "name": "ipython",
    "version": 3
   },
   "file_extension": ".py",
   "mimetype": "text/x-python",
   "name": "python",
   "nbconvert_exporter": "python",
   "pygments_lexer": "ipython3",
   "version": "3.12.4"
  }
 },
 "nbformat": 4,
 "nbformat_minor": 5
}

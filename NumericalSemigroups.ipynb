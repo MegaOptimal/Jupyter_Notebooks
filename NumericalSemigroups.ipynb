{
 "cells": [
  {
   "cell_type": "code",
   "execution_count": 2,
   "id": "d35241e0",
   "metadata": {},
   "outputs": [
    {
     "data": {
      "text/plain": [
       "true"
      ]
     },
     "execution_count": 2,
     "metadata": {},
     "output_type": "execute_result"
    }
   ],
   "source": [
    "gap('LoadPackage(\"numericalsgps\")') #Carga la libreria Numerical Semigroups"
   ]
  },
  {
   "cell_type": "code",
   "execution_count": 2,
   "id": "4772b13d",
   "metadata": {},
   "outputs": [
    {
     "name": "stdout",
     "output_type": "stream",
     "text": [
      "[ 8, 12, 13, 15 ]\n",
      "[ 0, 8, 12, 13, 15, 16, 20, 21, 23, 24 ]\n"
     ]
    }
   ],
   "source": [
    "S = 'NumericalSemigroup([15,13,12,8])'\n",
    "print(gap(f'MinimalGenerators({S})'))\n",
    "print(gap(f'FirstElementsOfNumericalSemigroup(10,{S})'))"
   ]
  },
  {
   "cell_type": "code",
   "execution_count": 2,
   "id": "32f0fa99",
   "metadata": {},
   "outputs": [],
   "source": [
    "import random\n",
    "def Busca_SN(N,R):\n",
    "    salida_generadores = []\n",
    "    while len(salida_generadores)<30:\n",
    "        mu = [int(u) for u in random.sample(range(2,N),R)]\n",
    "        while gcd(mu) != 1:\n",
    "            mu = [int(u) for u in random.sample(range(2,N),R)]\n",
    "        try:\n",
    "            gap(f'Gaps(NumericalSemigroup({str(mu)}))')\n",
    "            salida_generadores.append(mu)\n",
    "        except:\n",
    "            raise ValueError\n",
    "    conjunto_generadores_minimales = [gap(f'MinimalGenerators(NumericalSemigroup({n}))') for n in salida_generadores]\n",
    "    return conjunto_generadores_minimales"
   ]
  },
  {
   "cell_type": "code",
   "execution_count": 3,
   "id": "9805313d",
   "metadata": {},
   "outputs": [
    {
     "data": {
      "text/plain": [
       "[[ 3, 7 ],\n",
       " [ 3, 34 ],\n",
       " [ 24, 34, 36, 47 ],\n",
       " [ 4, 5 ],\n",
       " [ 2, 27 ],\n",
       " [ 5, 9 ],\n",
       " [ 11, 60, 61 ],\n",
       " [ 8, 23, 36 ],\n",
       " [ 6, 43, 45 ],\n",
       " [ 27, 32, 43, 48 ],\n",
       " [ 13, 30, 51 ],\n",
       " [ 11, 13, 49, 56 ],\n",
       " [ 5, 9 ],\n",
       " [ 4, 7 ],\n",
       " [ 7, 17, 36 ],\n",
       " [ 16, 43, 61, 68 ],\n",
       " [ 3, 10 ],\n",
       " [ 17, 32, 40, 56 ],\n",
       " [ 5, 14, 22 ],\n",
       " [ 14, 27, 45, 63 ],\n",
       " [ 4, 37, 46 ],\n",
       " [ 15, 26, 53 ],\n",
       " [ 11, 30, 56 ],\n",
       " [ 7, 9 ],\n",
       " [ 16, 27, 36, 49 ],\n",
       " [ 28, 34, 38, 61 ],\n",
       " [ 5, 18, 49 ],\n",
       " [ 6, 47, 57, 67 ],\n",
       " [ 29, 34, 48, 50 ],\n",
       " [ 9, 14, 57, 67 ]]"
      ]
     },
     "execution_count": 3,
     "metadata": {},
     "output_type": "execute_result"
    }
   ],
   "source": [
    "Busca_SN(70,4)"
   ]
  },
  {
   "cell_type": "code",
   "execution_count": 36,
   "id": "ee1d7fb1",
   "metadata": {
    "scrolled": true
   },
   "outputs": [
    {
     "name": "stdout",
     "output_type": "stream",
     "text": [
      "[ 27, 32, 48 ]\n",
      "[ 0, 27, 32, 48, 54, 59, 64, 75, 80, 81 ]\n",
      "421\n",
      "211\n"
     ]
    }
   ],
   "source": [
    "S1 = 'NumericalSemigroup([32,48,27])'\n",
    "print(gap(f'MinimalGenerators({S1})'))\n",
    "print(gap(f'FirstElementsOfNumericalSemigroup(10,{S1})'))\n",
    "print(gap(f'FrobeniusNumber({S1})'))\n",
    "print(gap(f'Genus({S1})'))"
   ]
  },
  {
   "cell_type": "code",
   "execution_count": 37,
   "id": "802c2f0c",
   "metadata": {},
   "outputs": [
    {
     "name": "stdout",
     "output_type": "stream",
     "text": [
      "[ 2, 3 ]\n",
      "[ 0, 2, 3, 4, 5, 6, 7, 8, 9, 10 ]\n",
      "1\n",
      "1\n"
     ]
    }
   ],
   "source": [
    "S2 = 'NumericalSemigroup([2,3,27])'\n",
    "print(gap(f'MinimalGenerators({S2})'))\n",
    "print(gap(f'FirstElementsOfNumericalSemigroup(10,{S2})'))\n",
    "print(gap(f'FrobeniusNumber({S2})'))\n",
    "print(gap(f'Genus({S2})'))"
   ]
  },
  {
   "cell_type": "code",
   "execution_count": 38,
   "id": "51a56798",
   "metadata": {},
   "outputs": [
    {
     "data": {
      "text/plain": [
       "421"
      ]
     },
     "execution_count": 38,
     "metadata": {},
     "output_type": "execute_result"
    }
   ],
   "source": [
    "16*1 + 15*27"
   ]
  },
  {
   "cell_type": "code",
   "execution_count": 39,
   "id": "c9920a7e",
   "metadata": {},
   "outputs": [
    {
     "data": {
      "text/plain": [
       "211"
      ]
     },
     "execution_count": 39,
     "metadata": {},
     "output_type": "execute_result"
    }
   ],
   "source": [
    "16*1 + (15*26)/2"
   ]
  },
  {
   "cell_type": "code",
   "execution_count": 13,
   "id": "fa67a112",
   "metadata": {},
   "outputs": [
    {
     "name": "stdout",
     "output_type": "stream",
     "text": [
      "Semigrupos Numéricos con Número de Frobenius 1\n",
      "Cantidad:  1\n",
      "[ [ 2, 3 ] ]\n",
      "Semigrupos Numéricos con Número de Frobenius 2\n",
      "Cantidad:  1\n",
      "[ [ 3 .. 5 ] ]\n",
      "Semigrupos Numéricos con Número de Frobenius 3\n",
      "Cantidad:  2\n",
      "[ [ 2, 5 ], [ 4 .. 7 ] ]\n",
      "Semigrupos Numéricos con Número de Frobenius 4\n",
      "Cantidad:  2\n",
      "[ [ 3, 5, 7 ], [ 5 .. 9 ] ]\n",
      "Semigrupos Numéricos con Número de Frobenius 5\n",
      "Cantidad:  5\n",
      "[ [ 2, 7 ], [ 3, 4 ], [ 3, 7, 8 ], [ 4, 6, 7, 9 ], [ 6 .. 11 ] ]\n",
      "Semigrupos Numéricos con Número de Frobenius 6\n",
      "Cantidad:  4\n",
      "[ [ 4, 5, 7 ], [ 4, 7, 9, 10 ], [ 5, 7, 8, 9, 11 ], [ 7 .. 13 ] ]\n",
      "Semigrupos Numéricos con Número de Frobenius 7\n",
      "Cantidad:  11\n",
      "[ [ 2, 9 ], [ 3, 5 ], [ 3, 8, 10 ], [ 4, 5, 6 ], [ 4, 5, 11 ], \n",
      "  [ 4, 6, 9, 11 ], [ 4, 9, 10, 11 ], [ 5, 6, 8, 9 ], [ 5, 8, 9, 11, 12 ], \n",
      "  [ 6, 8, 9, 10, 11, 13 ], [ 8 .. 15 ] ]\n",
      "Semigrupos Numéricos con Número de Frobenius 8\n",
      "Cantidad:  10\n",
      "[ [ 3, 7, 11 ], [ 3, 10, 11 ], [ 5, 6, 7, 9 ], [ 5, 6, 9, 13 ], \n",
      "  [ 5, 7, 9, 11, 13 ], [ 5, 9, 11, 12, 13 ], [ 6, 7, 9, 10, 11 ], \n",
      "  [ 6, 9, 10, 11, 13, 14 ], [ 7, 9, 10, 11, 12, 13, 15 ], [ 9 .. 17 ] ]\n",
      "Semigrupos Numéricos con Número de Frobenius 9\n",
      "Cantidad:  21\n",
      "[ [ 2, 11 ], [ 4, 6, 7 ], [ 4, 6, 11, 13 ], [ 4, 7, 10, 13 ], \n",
      "  [ 4, 10, 11, 13 ], [ 5, 6, 7, 8 ], [ 5, 6, 7 ], [ 5, 6, 8 ], \n",
      "  [ 5, 6, 13, 14 ], [ 5, 7, 8, 11 ], [ 5, 7, 11, 13 ], [ 5, 8, 11, 12, 14 ], \n",
      "  [ 5, 11, 12, 13, 14 ], [ 6, 7, 8, 10, 11 ], [ 6, 7, 10, 11, 15 ], \n",
      "  [ 6, 8, 10, 11, 13, 15 ], [ 6, 10, 11, 13, 14, 15 ], \n",
      "  [ 7, 8, 10, 11, 12, 13 ], [ 7, 10, 11, 12, 13, 15, 16 ], \n",
      "  [ 8, 10, 11, 12, 13, 14, 15, 17 ], [ 10 .. 19 ] ]\n",
      "Semigrupos Numéricos con Número de Frobenius 10\n",
      "Cantidad:  22\n",
      "[ [ 3, 8, 13 ], [ 3, 11, 13 ], [ 4, 7, 9 ], [ 4, 7, 13 ], [ 4, 9, 11, 14 ], \n",
      "  [ 4, 11, 13, 14 ], [ 6, 7, 8, 9, 11 ], [ 6, 7, 8, 11 ], [ 6, 7, 9, 11 ], \n",
      "  [ 6, 7, 11, 15, 16 ], [ 6, 8, 9, 11, 13 ], [ 6, 8, 11, 13, 15 ], \n",
      "  [ 6, 9, 11, 13, 14, 16 ], [ 6, 11, 13, 14, 15, 16 ], \n",
      "  [ 7, 8, 9, 11, 12, 13 ], [ 7, 8, 11, 12, 13, 17 ], \n",
      "  [ 7, 9, 11, 12, 13, 15, 17 ], [ 7, 11, 12, 13, 15, 16, 17 ], \n",
      "  [ 8, 9, 11, 12, 13, 14, 15 ], [ 8, 11, 12, 13, 14, 15, 17, 18 ], \n",
      "  [ 9, 11, 12, 13, 14, 15, 16, 17, 19 ], [ 11 .. 21 ] ]\n",
      "Semigrupos Numéricos con Número de Frobenius 11\n",
      "Cantidad:  51\n",
      "[ [ 2, 13 ], [ 3, 7 ], [ 3, 10, 14 ], [ 3, 13, 14 ], [ 4, 5 ], [ 4, 6, 9 ], \n",
      "  [ 4, 6, 13, 15 ], [ 4, 9, 10, 15 ], [ 4, 9, 14, 15 ], [ 4, 10, 13, 15 ], \n",
      "  [ 4, 13, 14, 15 ], [ 5, 7, 8, 9 ], [ 5, 7, 8 ], [ 5, 7, 9, 13 ], \n",
      "  [ 5, 7, 13, 16 ], [ 5, 8, 9, 12 ], [ 5, 8, 12, 14 ], [ 5, 9, 12, 13, 16 ], \n",
      "  [ 5, 12, 13, 14, 16 ], [ 6, 7, 8, 9, 10 ], [ 6, 7, 8, 9 ], [ 6, 7, 8, 10 ], \n",
      "  [ 6, 7, 8, 17 ], [ 6, 7, 9, 10 ], [ 6, 7, 9, 17 ], [ 6, 7, 10, 15 ], \n",
      "  [ 6, 7, 15, 16, 17 ], [ 6, 8, 9, 10, 13 ], [ 6, 8, 9, 13 ], \n",
      "  [ 6, 8, 10, 13, 15, 17 ], [ 6, 8, 13, 15, 17 ], [ 6, 9, 10, 13, 14, 17 ], \n",
      "  [ 6, 9, 13, 14, 16, 17 ], [ 6, 10, 13, 14, 15, 17 ], \n",
      "  [ 6, 13, 14, 15, 16, 17 ], [ 7, 8, 9, 10, 12, 13 ], [ 7, 8, 9, 12, 13 ], \n",
      "  [ 7, 8, 10, 12, 13 ], [ 7, 8, 12, 13, 17, 18 ], [ 7, 9, 10, 12, 13, 15 ], \n",
      "  [ 7, 9, 12, 13, 15, 17 ], [ 7, 10, 12, 13, 15, 16, 18 ], \n",
      "  [ 7, 12, 13, 15, 16, 17, 18 ], [ 8, 9, 10, 12, 13, 14, 15 ], \n",
      "  [ 8, 9, 12, 13, 14, 15, 19 ], [ 8, 10, 12, 13, 14, 15, 17, 19 ], \n",
      "  [ 8, 12, 13, 14, 15, 17, 18, 19 ], [ 9, 10, 12, 13, 14, 15, 16, 17 ], \n",
      "  [ 9, 12, 13, 14, 15, 16, 17, 19, 20 ], \n",
      "  [ 10, 12, 13, 14, 15, 16, 17, 18, 19, 21 ], [ 12 .. 23 ] ]\n"
     ]
    }
   ],
   "source": [
    "for n in range(1,12):\n",
    "    print(f'Semigrupos Numéricos con Número de Frobenius {n}')\n",
    "    print('Cantidad: ',gap(f'Length(NumericalSemigroupsWithFrobeniusNumber({n}))'))\n",
    "    print(gap(f'List(NumericalSemigroupsWithFrobeniusNumber({n}),MinimalGenerators)'))"
   ]
  },
  {
   "cell_type": "code",
   "execution_count": 15,
   "id": "9ba2c6f5",
   "metadata": {},
   "outputs": [
    {
     "name": "stdout",
     "output_type": "stream",
     "text": [
      "Semigrupos Numéricos con Género 0\n",
      "Cantidad:  1\n",
      "[ [ 1 ] ]\n",
      "Semigrupos Numéricos con Género 1\n",
      "Cantidad:  1\n",
      "[ [ 2, 3 ] ]\n",
      "Semigrupos Numéricos con Género 2\n",
      "Cantidad:  2\n",
      "[ [ 3 .. 5 ], [ 2, 5 ] ]\n",
      "Semigrupos Numéricos con Género 3\n",
      "Cantidad:  4\n",
      "[ [ 4 .. 7 ], [ 3, 5, 7 ], [ 3, 4 ], [ 2, 7 ] ]\n",
      "Semigrupos Numéricos con Género 4\n",
      "Cantidad:  7\n",
      "[ [ 5 .. 9 ], [ 4, 6, 7, 9 ], [ 4, 5, 7 ], [ 4, 5, 6 ], [ 3, 5 ], \n",
      "  [ 3, 7, 8 ], [ 2, 9 ] ]\n",
      "Semigrupos Numéricos con Género 5\n",
      "Cantidad:  12\n",
      "[ [ 6 .. 11 ], [ 5, 7, 8, 9, 11 ], [ 5, 6, 8, 9 ], [ 5, 6, 7, 9 ], \n",
      "  [ 5, 6, 7, 8 ], [ 4, 6, 7 ], [ 4, 7, 9, 10 ], [ 4, 6, 9, 11 ], \n",
      "  [ 4, 5, 11 ], [ 3, 8, 10 ], [ 3, 7, 11 ], [ 2, 11 ] ]\n",
      "Semigrupos Numéricos con Género 6\n",
      "Cantidad:  23\n",
      "[ [ 7 .. 13 ], [ 6, 8, 9, 10, 11, 13 ], [ 6, 7, 9, 10, 11 ], \n",
      "  [ 6, 7, 8, 10, 11 ], [ 6, 7, 8, 9, 11 ], [ 6, 7, 8, 9, 10 ], \n",
      "  [ 5, 7, 8, 9 ], [ 5, 8, 9, 11, 12 ], [ 5, 7, 9, 11, 13 ], [ 5, 7, 8, 11 ], \n",
      "  [ 5, 6, 9, 13 ], [ 5, 6, 8 ], [ 5, 6, 7 ], [ 4, 7, 10, 13 ], [ 4, 7, 9 ], \n",
      "  [ 4, 9, 10, 11 ], [ 4, 6, 11, 13 ], [ 4, 6, 9 ], [ 4, 5 ], [ 3, 8, 13 ], \n",
      "  [ 3, 10, 11 ], [ 3, 7 ], [ 2, 13 ] ]\n"
     ]
    }
   ],
   "source": [
    "for n in range(7):\n",
    "    print(f'Semigrupos Numéricos con Género {n}')\n",
    "    print('Cantidad: ',gap(f'Length(NumericalSemigroupsWithGenus({n}))'))\n",
    "    print(gap(f'List(NumericalSemigroupsWithGenus({n}),MinimalGenerators)'))"
   ]
  },
  {
   "cell_type": "code",
   "execution_count": 11,
   "id": "c2ecc631",
   "metadata": {
    "scrolled": true
   },
   "outputs": [
    {
     "name": "stdout",
     "output_type": "stream",
     "text": [
      "23\n",
      "22\n"
     ]
    }
   ],
   "source": [
    "M = 'NumericalSemigroupByGaps([1..22])'\n",
    "print(gap(f'Length(MinimalGenerators({M}))'))\n",
    "print(gap(f'Length(PseudoFrobenius({M}))'))"
   ]
  },
  {
   "cell_type": "code",
   "execution_count": 8,
   "id": "5ff3157a",
   "metadata": {},
   "outputs": [
    {
     "name": "stdout",
     "output_type": "stream",
     "text": [
      "[ 0, 3, 6, 7, 9, 10, 11, 12, 13, 14, 15, 16, 17, 18, 19 ]\n"
     ]
    }
   ],
   "source": [
    "print(gap('FirstElementsOfNumericalSemigroup(15,NumericalSemigroup([3, 7, 11]))'))"
   ]
  },
  {
   "cell_type": "code",
   "execution_count": 12,
   "id": "6c98c133",
   "metadata": {},
   "outputs": [
    {
     "name": "stdout",
     "output_type": "stream",
     "text": [
      "2\n"
     ]
    }
   ],
   "source": [
    "print(gap('FrobeniusNumber(NumericalSemigroup([3,4,5]))'))"
   ]
  }
 ],
 "metadata": {
  "kernelspec": {
   "display_name": "SageMath 10.2",
   "language": "sage",
   "name": "sagemath"
  },
  "language_info": {
   "codemirror_mode": {
    "name": "ipython",
    "version": 3
   },
   "file_extension": ".py",
   "mimetype": "text/x-python",
   "name": "python",
   "nbconvert_exporter": "python",
   "pygments_lexer": "ipython3",
   "version": "3.10.12"
  }
 },
 "nbformat": 4,
 "nbformat_minor": 5
}
